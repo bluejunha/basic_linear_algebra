{
 "cells": [
  {
   "cell_type": "markdown",
   "metadata": {},
   "source": [
    "# linear algebra \n",
    "----\n",
    "스터디와 처음시작하는 사람들을 위한 강의들을 정리하고 파이썬으로 연습문제를 작성하는데 의미가 있다 . \n",
    "1. [gilbert stang 의linear algebra](https://ocw.mit.edu/courses/mathematics/18-06-linear-algebra-spring-2010/video-lectures/)\n",
    "2. introduntion to applied linear algebra\n",
    "3. Linear Algebra Done Right\n",
    "4. 프리드버그의 선형대수\n",
    "\n",
    "\n",
    "\n",
    "가 가장 추전을 많이 받은 책이고 공부하기 좋은책 같다.  \n",
    "\n",
    "문서로 쓰기 위해서는 markdown 문법과 latex수식 편집기를 활용해서 사용하는것이 유용할 것이라고 생각된다. \n",
    "추가적으로는 이 링크들도 추천한다 "
   ]
  },
  {
   "cell_type": "markdown",
   "metadata": {},
   "source": [
    "![Imgur](https://i.imgur.com/wDW2rTw.png)"
   ]
  },
  {
   "cell_type": "markdown",
   "metadata": {},
   "source": [
    "1번은 길버트 스트랭 강의이고 , 2번은 [그림으로 보이는 선형대수](https://www.youtube.com/watch?v=fNk_zzaMoSs&list=PLZHQObOWTQDPD3MizzM2xVFitgF8hE_ab)이다.   \n",
    "3번은 추천받은 책이고 현재 보고있는[책](http://book.interpark.com/product/BookDisplay.do?_method=detail&sc.prdNo=292471309&gclid=CjwKCAjw3-bzBRBhEiwAgnnLClbq5Ybhbn_t9_SFhmzG1Hr0_vl8VNLDvX842D5tdUkfGo1DU18fnRoCrRsQAvD_BwE)이고 4번째 부터는 이론이 깊고 힘들다고 하던 friedberg 의 책과 gilbert 교수님이 발간한 [책](https://www.amazon.com/Linear-Algebra-Learning-Gilbert-Strang/dp/0692196382)을 보려고한다.\n",
    "\n",
    "\n",
    "혹시나 처음하시는 분들은 [칸 아카데미의 자료](https://www.khanacademy.org/math/linear-algebra)를 먼저보고 오면 좋을 것 같다.\n",
    "\n",
    "-----\n",
    "\n",
    "본 공부의 구성방식은 수식과 파이썬 numpy의 공부를 진행하고 사용하고 연산하는데 의미가 있다.   \n",
    "다음에 개정을 한다면 수식과 그래프를 좀 더 가다듬어 추가하고 싶다. "
   ]
  },
  {
   "cell_type": "code",
   "execution_count": 1,
   "metadata": {},
   "outputs": [],
   "source": [
    "import numpy as np "
   ]
  },
  {
   "cell_type": "markdown",
   "metadata": {},
   "source": [
    "패키지 임포트 과정이다. "
   ]
  },
  {
   "cell_type": "markdown",
   "metadata": {},
   "source": [
    "선형대수란 것이 무엇인지 집고가자 \n",
    "\n",
    "what| how\n",
    "---|---\n",
    "linear equation|linear algebra\n",
    "\n",
    "\n",
    "을 위한 방법론이다. \n",
    "equation과 unknown의 해답을 찾아 나아가는 방법론으로 선형성이라는 것에 기반한 에측이 가능한 시스템에서 해답을 찾는다. \n",
    "\n",
    "$$ f(x+y) = f(x) + f(y) $$\n",
    "$$ f(kx) = k f(x) $$\n",
    "\n",
    "를 만족하는 시스템상에서의 해를 찾는과정을 공부하는것이다 . "
   ]
  },
  {
   "cell_type": "code",
   "execution_count": 5,
   "metadata": {},
   "outputs": [
    {
     "name": "stdout",
     "output_type": "stream",
     "text": [
      "79\n",
      "79\n"
     ]
    }
   ],
   "source": [
    "def linearity(x,y):\n",
    "    return(x+y)\n",
    "print(linearity(4,75))\n",
    "print(4+75)"
   ]
  },
  {
   "cell_type": "code",
   "execution_count": 6,
   "metadata": {},
   "outputs": [
    {
     "name": "stdout",
     "output_type": "stream",
     "text": [
      "10000\n",
      "10000\n"
     ]
    }
   ],
   "source": [
    "def linearity1(a,x):\n",
    "    return(a*x)\n",
    "print(linearity1(10,1000))\n",
    "print(10*1000)"
   ]
  }
 ],
 "metadata": {
  "kernelspec": {
   "display_name": "Python 3",
   "language": "python",
   "name": "python3"
  },
  "language_info": {
   "codemirror_mode": {
    "name": "ipython",
    "version": 3
   },
   "file_extension": ".py",
   "mimetype": "text/x-python",
   "name": "python",
   "nbconvert_exporter": "python",
   "pygments_lexer": "ipython3",
   "version": "3.7.6"
  }
 },
 "nbformat": 4,
 "nbformat_minor": 4
}
